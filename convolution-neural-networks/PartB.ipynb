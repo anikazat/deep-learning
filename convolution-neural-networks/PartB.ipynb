{
  "cells": [
    {
      "cell_type": "markdown",
      "metadata": {
        "id": "3jroUk4q0GMv"
      },
      "source": [
        "# Set up"
      ]
    },
    {
      "cell_type": "markdown",
      "metadata": {
        "id": "bQubm9q10ang"
      },
      "source": [
        "Import packages"
      ]
    },
    {
      "cell_type": "code",
      "execution_count": 5,
      "metadata": {
        "id": "e3SGeIo30cVr"
      },
      "outputs": [],
      "source": [
        "# Import required packages\n",
        "import tensorflow as tf\n",
        "from tensorflow.keras.applications import MobileNetV3Large\n",
        "from tensorflow.keras.layers import Dense, GlobalAveragePooling2D\n",
        "from tensorflow.keras.callbacks import EarlyStopping, ReduceLROnPlateau, ModelCheckpoint\n",
        "from shutil import copyfile\n",
        "import os\n",
        "from tensorflow.keras.preprocessing.image import ImageDataGenerator\n",
        "import matplotlib.pyplot as plt\n",
        "import random \n",
        "from google.colab import drive"
      ]
    },
    {
      "cell_type": "markdown",
      "metadata": {
        "id": "rUjaS1_u0cLv"
      },
      "source": [
        "Load data"
      ]
    },
    {
      "cell_type": "code",
      "execution_count": 6,
      "metadata": {
        "colab": {
          "base_uri": "https://localhost:8080/"
        },
        "id": "D-dYuQ2K0hYF",
        "outputId": "903fbb4e-22c8-4217-892f-4135a8a5db05"
      },
      "outputs": [
        {
          "name": "stdout",
          "output_type": "stream",
          "text": [
            "Downloading data from http://data.vision.ee.ethz.ch/cvl/food-101.tar.gz\n",
            "4996284416/4996278331 [==============================] - 453s 0us/step\n",
            "4996292608/4996278331 [==============================] - 453s 0us/step\n"
          ]
        }
      ],
      "source": [
        "# Load data\n",
        "file_url = 'http://data.vision.ee.ethz.ch/cvl/food-101.tar.gz'\n",
        "zip_dir = tf.keras.utils.get_file('food-101.tar.gz', origin=file_url, extract=True)"
      ]
    },
    {
      "cell_type": "markdown",
      "metadata": {
        "id": "BqyzdzKI0QMV"
      },
      "source": [
        "Sort and copy files into train and test splits\n",
        "\n"
      ]
    },
    {
      "cell_type": "code",
      "execution_count": 7,
      "metadata": {
        "id": "7jYBsA62RXEy"
      },
      "outputs": [],
      "source": [
        "# Get list of train and test images from train.txt and test.txt respectively\n",
        "with open('/root/.keras/datasets/food-101/meta/train.txt', 'r') as txt:\n",
        "  train_list = [read.strip() for read in txt.readlines()]\n",
        "with open('/root/.keras/datasets/food-101/meta/test.txt', 'r') as txt:\n",
        "  test_list = [read.strip() for read in txt.readlines()]\n",
        "\n",
        "# Create training_set and testing_set variables which will take the filepaths for the images for each set\n",
        "training_set = ['/root/.keras/datasets/food-101/images/' + item.strip() + '.jpg' for item in train_list]\n",
        "testing_set = ['/root/.keras/datasets/food-101/images/' + item.strip() + '.jpg' for item in test_list]\n",
        "\n",
        "# Shuffle the list of images using the random package\n",
        "shuffled_training_set = random.sample(training_set, len(training_set))\n",
        "\n",
        "# Create total_train and total_val variables which will take the value for the lenth of training_set or testing_set\n",
        "total_train = len(shuffled_training_set)\n",
        "total_val = len(testing_set)\n",
        "\n",
        "# Create batch_size variable and assign the value 32\n",
        "batch_size = 32\n",
        "\n",
        "# Function to copy images from training_set and testing_set to a given input path and folder\n",
        "def copy_files_to_set(img_set, input_path, set_name):\n",
        "  for filename in img_set:\n",
        "    this_file = filename.split('/')[-1]\n",
        "    target = filename.split('/')[-2]\n",
        "    folder = input_path + '/' + set_name + '/' + target\n",
        "    os.makedirs(folder, exist_ok = True)\n",
        "    destination = folder + '/' + this_file\n",
        "    copyfile(filename, destination)\n",
        "\n",
        "# Assign chosen input path to variable input_path\n",
        "input_path = '/root/.keras/datasets/food101'\n",
        "\n",
        "# Copy images from training_set and testing_set to given destination\n",
        "copy_files_to_set(img_set=shuffled_training_set, input_path=input_path, set_name='training')\n",
        "copy_files_to_set(img_set=testing_set, input_path=input_path, set_name='test')"
      ]
    },
    {
      "cell_type": "markdown",
      "metadata": {
        "id": "LUL5zR2O0Lk9"
      },
      "source": [
        "Define functions for plots"
      ]
    },
    {
      "cell_type": "code",
      "execution_count": 18,
      "metadata": {
        "id": "O_xfmgitTFy0"
      },
      "outputs": [],
      "source": [
        "# Function to plot the accuracy curve\n",
        "def plot_accuracy(history,title):\n",
        "    plt.title(title)\n",
        "    plt.plot(history.history['accuracy'], label='training')\n",
        "    plt.plot(history.history['val_accuracy'], label='validation')\n",
        "    plt.ylabel('accuracy')\n",
        "    plt.xlabel('epoch')\n",
        "    # Min and mix y axis limits defined to allow for easy comparison between models\n",
        "    plt.ylim(0,1)\n",
        "    plt.legend(['train_accuracy', 'val_accuracy'], loc='best')\n",
        "    plt.show()\n",
        "\n",
        "# Function to plot the loss curve\n",
        "def plot_loss(history,title):\n",
        "    plt.title(title)\n",
        "    plt.plot(history.history['loss'], label='training')\n",
        "    plt.plot(history.history['val_loss'], label='validation')\n",
        "    plt.ylabel('loss')\n",
        "    plt.xlabel('epoch')\n",
        "    # Min and mix y axis limits defined to allow for easy comparison between models\n",
        "    plt.ylim(0.5, 4)\n",
        "    plt.legend(['train_loss', 'val_loss'], loc='best')\n",
        "    plt.show()"
      ]
    },
    {
      "cell_type": "markdown",
      "metadata": {
        "id": "hVcYUlGj0iaM"
      },
      "source": [
        "# Model"
      ]
    },
    {
      "cell_type": "markdown",
      "metadata": {
        "id": "q47Vo4L50kCo"
      },
      "source": [
        "Prepare data for modelling"
      ]
    },
    {
      "cell_type": "code",
      "execution_count": 9,
      "metadata": {
        "colab": {
          "base_uri": "https://localhost:8080/"
        },
        "id": "z6O54NF59KWI",
        "outputId": "58824662-1355-478a-c415-199e5118c007"
      },
      "outputs": [
        {
          "name": "stdout",
          "output_type": "stream",
          "text": [
            "Found 75750 images belonging to 101 classes.\n",
            "Found 25250 images belonging to 101 classes.\n"
          ]
        }
      ],
      "source": [
        "# Create an image generator for the training set - don't need to sclae the images for MobileNet\n",
        "mobile_train_img_gen = ImageDataGenerator(\n",
        "    # Add augmentations to data\n",
        "    rotation_range=40, \n",
        "    width_shift_range=0.1, \n",
        "    height_shift_range=0.1,\n",
        "    shear_range=0.2,\n",
        "    zoom_range=0.2,\n",
        "    horizontal_flip=True,\n",
        "    fill_mode='nearest')\n",
        "# Create an image generator for the test set - don't need to sclae the images for MobileNet\n",
        "mobile_test_img_gen = ImageDataGenerator()\n",
        "\n",
        "# Create a data generator for the training set using flow_from_directory()\n",
        "mobile_train_data_gen = mobile_train_img_gen.flow_from_directory(\n",
        "    batch_size = batch_size, \n",
        "    directory = input_path+'/training', \n",
        "    target_size = (224, 224), \n",
        "    class_mode = 'categorical', \n",
        "    color_mode = 'rgb')\n",
        "# Create a data generator for the test set using flow_from_directory()\n",
        "mobile_test_data_gen = mobile_test_img_gen.flow_from_directory(\n",
        "    batch_size = batch_size, \n",
        "    directory = input_path+'/test', \n",
        "    target_size = (224, 224), \n",
        "    class_mode = 'categorical', \n",
        "    color_mode = 'rgb')"
      ]
    },
    {
      "cell_type": "markdown",
      "metadata": {
        "id": "ng09YgwH1HiO"
      },
      "source": [
        "Create base model and view model summary"
      ]
    },
    {
      "cell_type": "code",
      "execution_count": 10,
      "metadata": {
        "colab": {
          "base_uri": "https://localhost:8080/"
        },
        "id": "W2lMyVjY63DR",
        "outputId": "378fa474-6fcb-4d5a-9973-a19a24b1e96b"
      },
      "outputs": [
        {
          "name": "stdout",
          "output_type": "stream",
          "text": [
            "Downloading data from https://storage.googleapis.com/tensorflow/keras-applications/mobilenet_v3/weights_mobilenet_v3_large_224_1.0_float_no_top_v2.h5\n",
            "12689408/12683000 [==============================] - 0s 0us/step\n",
            "12697600/12683000 [==============================] - 0s 0us/step\n"
          ]
        }
      ],
      "source": [
        "# Instantiate a pre-trained MobileNetV3Large model\n",
        "base_model = tf.keras.applications.MobileNetV3Large(\n",
        "    # Specify the input image dimensions\n",
        "    input_shape=(224, 224, 3),\n",
        "    # Don't include top layers as this project has a different number of classes than the pre-trained model\n",
        "    include_top=False,\n",
        "    # Use pre-trained weights from ImageNet\n",
        "    weights='imagenet',\n",
        "    # Include pre-processing\n",
        "    include_preprocessing=True)\n",
        "\n",
        "# View summary of the base model\n",
        "base_model.summary()"
      ]
    },
    {
      "cell_type": "markdown",
      "metadata": {},
      "source": [
        "Print numbered list of model layers"
      ]
    },
    {
      "cell_type": "code",
      "execution_count": null,
      "metadata": {
        "id": "_VcCwKEQ7MT_"
      },
      "outputs": [],
      "source": [
        "# Show layers with layer number - to help choose how many layers to freeze\n",
        "for i, layer in enumerate(base_model.layers):\n",
        "   print(i, layer.name)"
      ]
    },
    {
      "cell_type": "markdown",
      "metadata": {},
      "source": [
        "Freeze and unfreeze chosen number of layers, build model, and view model summary"
      ]
    },
    {
      "cell_type": "code",
      "execution_count": 11,
      "metadata": {
        "colab": {
          "base_uri": "https://localhost:8080/"
        },
        "id": "BTqTiLKr7P8k",
        "outputId": "83216a75-ab8e-4c05-a42b-83c846c4f580"
      },
      "outputs": [
        {
          "name": "stdout",
          "output_type": "stream",
          "text": [
            "Model: \"sequential\"\n",
            "_________________________________________________________________\n",
            " Layer (type)                Output Shape              Param #   \n",
            "=================================================================\n",
            " MobilenetV3large (Functiona  (None, 7, 7, 960)        2996352   \n",
            " l)                                                              \n",
            "                                                                 \n",
            " global_average_pooling2d (G  (None, 960)              0         \n",
            " lobalAveragePooling2D)                                          \n",
            "                                                                 \n",
            " dense (Dense)               (None, 256)               246016    \n",
            "                                                                 \n",
            " dense_1 (Dense)             (None, 128)               32896     \n",
            "                                                                 \n",
            " dense_2 (Dense)             (None, 101)               13029     \n",
            "                                                                 \n",
            "=================================================================\n",
            "Total params: 3,288,293\n",
            "Trainable params: 1,089,301\n",
            "Non-trainable params: 2,198,992\n",
            "_________________________________________________________________\n"
          ]
        }
      ],
      "source": [
        "# Freeze layers\n",
        "frozen_layers = 240\n",
        "\n",
        "# Create a for loop that will iterate through the layers of base_model up to the value of frozen_layers and set each of them as non-trainable\n",
        "for layer in base_model.layers[:frozen_layers]:\n",
        "    layer.trainable = False\n",
        "for layer in base_model.layers[frozen_layers:]:\n",
        "    layer.trainable = True\n",
        "\n",
        "# Build model\n",
        "tuned_model = tf.keras.Sequential([\n",
        "    base_model,\n",
        "    # Global average layer\n",
        "    GlobalAveragePooling2D(),\n",
        "    # First and second fully connected layers, with relu activation function\n",
        "    Dense(256, activation='relu'),\n",
        "    Dense(128, activation='relu'),\n",
        "    # Third fully connected layer, with softmax activation function for making predictions\n",
        "    Dense(101, activation='softmax')\n",
        "])\n",
        "\n",
        "# View summary of the tuned model\n",
        "tuned_model.summary()"
      ]
    },
    {
      "cell_type": "markdown",
      "metadata": {},
      "source": [
        "Compile model, define callbacks and fit model"
      ]
    },
    {
      "cell_type": "code",
      "execution_count": null,
      "metadata": {
        "colab": {
          "base_uri": "https://localhost:8080/"
        },
        "id": "qCQ3huHTrNst",
        "outputId": "e4c54168-8bbc-4ff1-9403-b50974d2b1b0"
      },
      "outputs": [],
      "source": [
        "# Compile model using catgorical crossentropy as the loss function, adam as the optimiser (with 0.0001 lr), and accuray as the metric\n",
        "optimizer = tf.keras.optimizers.Adam(0.0001)\n",
        "tuned_model.compile(loss='categorical_crossentropy', optimizer=optimizer, metrics=['accuracy'])\n",
        "\n",
        "# Define callbacks - EarlyStopping, ReduceLROnPlateau, and ModelCheckpoint\n",
        "early_stop_cb = tf.keras.callbacks.EarlyStopping(monitor='loss', patience=5)\n",
        "reduce_lr = ReduceLROnPlateau(monitor='val_loss', factor=0.2, patience=3, min_lr=0.0000001)\n",
        "# Save the model to the temp folder of Google Drive (mount drive, select directory)\n",
        "drive.mount('/content/drive')\n",
        "MODEL_DIR = \"/content/drive/My Drive/temp\"\n",
        "if not os.path.exists(MODEL_DIR):\n",
        "    os.makedirs(MODEL_DIR)\n",
        "checkpoint = ModelCheckpoint(filepath=os.path.join(MODEL_DIR, \"tuned-model-{epoch:02d}.h5\"), save_best_only=True) \n",
        "\n",
        "# Fit the model\n",
        "history = tuned_model.fit_generator(\n",
        "    mobile_train_data_gen,\n",
        "    steps_per_epoch = total_train // batch_size,\n",
        "    validation_data = mobile_test_data_gen,\n",
        "    validation_steps = total_val // batch_size,\n",
        "    epochs = 10,\n",
        "    callbacks = [early_stop_cb, reduce_lr, checkpoint])"
      ]
    },
    {
      "cell_type": "markdown",
      "metadata": {
        "id": "tLoEl2jB02To"
      },
      "source": [
        "Plot accuracy and loss for train and validation"
      ]
    },
    {
      "cell_type": "code",
      "execution_count": 14,
      "metadata": {
        "colab": {
          "base_uri": "https://localhost:8080/",
          "height": 295
        },
        "id": "htoFx_CM8ccB",
        "outputId": "d2a53227-556a-4ffb-c36d-8239a7f82f01"
      },
      "outputs": [
        {
          "data": {
            "image/png": "[encoded data removed]",
            "text/plain": [
              "<Figure size 432x288 with 1 Axes>"
            ]
          },
          "metadata": {
            "needs_background": "light"
          },
          "output_type": "display_data"
        }
      ],
      "source": [
        "# Plot the accuracy curve of model\n",
        "plot_accuracy(history,'Accuracy - MobileNetV3Large Tuned Model')"
      ]
    },
    {
      "cell_type": "code",
      "execution_count": 19,
      "metadata": {
        "colab": {
          "base_uri": "https://localhost:8080/",
          "height": 295
        },
        "id": "hkkAZb0I8dsP",
        "outputId": "27028d93-87cc-4b09-f691-316073309f2d"
      },
      "outputs": [
        {
          "data": {
            "image/png": "[encoded data removed]",
            "text/plain": [
              "<Figure size 432x288 with 1 Axes>"
            ]
          },
          "metadata": {
            "needs_background": "light"
          },
          "output_type": "display_data"
        }
      ],
      "source": [
        "# Plot the loss curve of model\n",
        "plot_loss(history,'Loss - MobileNetV3Large Tuned Model')"
      ]
    }
  ],
  "metadata": {
    "accelerator": "GPU",
    "colab": {
      "name": "Assignment2_PartB_AnikaZatschler.ipynb",
      "provenance": []
    },
    "kernelspec": {
      "display_name": "Python 3",
      "name": "python3"
    },
    "language_info": {
      "name": "python"
    }
  },
  "nbformat": 4,
  "nbformat_minor": 0
}

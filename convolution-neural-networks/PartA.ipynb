{
  "cells": [
    {
      "cell_type": "markdown",
      "metadata": {
        "id": "3jroUk4q0GMv"
      },
      "source": [
        "# Set up"
      ]
    },
    {
      "cell_type": "markdown",
      "metadata": {
        "id": "bQubm9q10ang"
      },
      "source": [
        "Import packages"
      ]
    },
    {
      "cell_type": "code",
      "execution_count": 1,
      "metadata": {
        "id": "mEdK95CuRGvL"
      },
      "outputs": [],
      "source": [
        "# Import required packages\n",
        "import tensorflow as tf\n",
        "from tensorflow.keras.applications import InceptionResNetV2, MobileNetV3Large, NASNetMobile\n",
        "from tensorflow.keras.layers import Dense, GlobalAveragePooling2D\n",
        "from tensorflow.keras.callbacks import EarlyStopping, ReduceLROnPlateau, ModelCheckpoint\n",
        "from shutil import copyfile\n",
        "import os\n",
        "from tensorflow.keras.preprocessing.image import ImageDataGenerator\n",
        "import matplotlib.pyplot as plt\n",
        "import random \n",
        "from google.colab import drive"
      ]
    },
    {
      "cell_type": "markdown",
      "metadata": {
        "id": "UNq75kD_3b52"
      },
      "source": [
        "Load data"
      ]
    },
    {
      "cell_type": "code",
      "execution_count": 2,
      "metadata": {
        "colab": {
          "base_uri": "https://localhost:8080/"
        },
        "id": "htCPsMGLRVnN",
        "outputId": "79ac05e3-4ac1-4e59-b727-9c80f3644a99"
      },
      "outputs": [
        {
          "name": "stdout",
          "output_type": "stream",
          "text": [
            "Downloading data from http://data.vision.ee.ethz.ch/cvl/food-101.tar.gz\n",
            "4996284416/4996278331 [==============================] - 192s 0us/step\n",
            "4996292608/4996278331 [==============================] - 192s 0us/step\n"
          ]
        }
      ],
      "source": [
        "# Load data\n",
        "file_url = 'http://data.vision.ee.ethz.ch/cvl/food-101.tar.gz'\n",
        "zip_dir = tf.keras.utils.get_file('food-101.tar.gz', origin=file_url, extract=True)"
      ]
    },
    {
      "cell_type": "markdown",
      "metadata": {
        "id": "-cXFOW0C3mM9"
      },
      "source": [
        "Sort and copy files into train and test splits"
      ]
    },
    {
      "cell_type": "code",
      "execution_count": 3,
      "metadata": {
        "id": "7jYBsA62RXEy"
      },
      "outputs": [],
      "source": [
        "# Get list of train and test images from train.txt and test.txt respectively\n",
        "with open('/root/.keras/datasets/food-101/meta/train.txt', 'r') as txt:\n",
        "  train_list = [read.strip() for read in txt.readlines()]\n",
        "with open('/root/.keras/datasets/food-101/meta/test.txt', 'r') as txt:\n",
        "  test_list = [read.strip() for read in txt.readlines()]\n",
        "\n",
        "# Create training_set and testing_set variables which will take the filepaths for the images for each set\n",
        "training_set = ['/root/.keras/datasets/food-101/images/' + item.strip() + '.jpg' for item in train_list]\n",
        "testing_set = ['/root/.keras/datasets/food-101/images/' + item.strip() + '.jpg' for item in test_list]\n",
        "\n",
        "# Shuffle the list of images using the random package\n",
        "shuffled_training_set = random.sample(training_set, len(training_set))\n",
        "\n",
        "# Create total_train and total_val variables which will take the value for the lenth of training_set or testing_set\n",
        "total_train = len(shuffled_training_set)\n",
        "total_val = len(testing_set)\n",
        "\n",
        "# Create batch_size variable and assign the value 32\n",
        "batch_size = 32\n",
        "\n",
        "# Function to copy images from training_set and testing_set to a given input path and folder\n",
        "def copy_files_to_set(img_set, input_path, set_name):\n",
        "  for filename in img_set:\n",
        "    this_file = filename.split('/')[-1]\n",
        "    target = filename.split('/')[-2]\n",
        "    folder = input_path + '/' + set_name + '/' + target\n",
        "    os.makedirs(folder, exist_ok = True)\n",
        "    destination = folder + '/' + this_file\n",
        "    copyfile(filename, destination)\n",
        "\n",
        "# Assign chosen input path to variable input_path\n",
        "input_path = '/root/.keras/datasets/food101'\n",
        "\n",
        "# Copy images from training_set and testing_set to given destination\n",
        "copy_files_to_set(img_set=shuffled_training_set, input_path=input_path, set_name='training')\n",
        "copy_files_to_set(img_set=testing_set, input_path=input_path, set_name='test')"
      ]
    },
    {
      "cell_type": "markdown",
      "metadata": {
        "id": "xdDaRHFy3v5B"
      },
      "source": [
        "Define functions for plots"
      ]
    },
    {
      "cell_type": "code",
      "execution_count": 4,
      "metadata": {
        "id": "DycSZr_m3ve-"
      },
      "outputs": [],
      "source": [
        "# Function to plot the accuracy curve\n",
        "def plot_accuracy(history,title):\n",
        "    plt.title(title)\n",
        "    plt.plot(history.history['accuracy'], label='training')\n",
        "    plt.plot(history.history['val_accuracy'], label='validation')\n",
        "    plt.ylabel('accuracy')\n",
        "    plt.xlabel('epoch')\n",
        "    # Min and mix y axis limits defined to allow for easy comparison between models\n",
        "    plt.ylim(0,1)\n",
        "    plt.legend(['train_accuracy', 'val_accuracy'], loc='best')\n",
        "    plt.show()\n",
        "\n",
        "# Function to plot the loss curve\n",
        "def plot_loss(history,title):\n",
        "    plt.title(title)\n",
        "    plt.plot(history.history['loss'], label='training')\n",
        "    plt.plot(history.history['val_loss'], label='validation')\n",
        "    plt.ylabel('loss')\n",
        "    plt.xlabel('epoch')\n",
        "    # Min and mix y axis limits defined to allow for easy comparison between models\n",
        "    plt.ylim(0.5, 4)\n",
        "    plt.legend(['train_loss', 'val_loss'], loc='best')\n",
        "    plt.show()\n"
      ]
    },
    {
      "cell_type": "markdown",
      "metadata": {
        "id": "7MG_-BgS31pQ"
      },
      "source": [
        "# Modelling"
      ]
    },
    {
      "cell_type": "markdown",
      "metadata": {
        "id": "jehIKxx2ThXj"
      },
      "source": [
        "## Inception model"
      ]
    },
    {
      "cell_type": "markdown",
      "metadata": {
        "id": "1--XW2iF3__P"
      },
      "source": [
        "Prepare data for modelling"
      ]
    },
    {
      "cell_type": "code",
      "execution_count": 5,
      "metadata": {
        "colab": {
          "base_uri": "https://localhost:8080/"
        },
        "id": "1N1lkssp4Bxj",
        "outputId": "ebbbb080-465b-4d43-c0d1-e1a5e1d18122"
      },
      "outputs": [
        {
          "name": "stdout",
          "output_type": "stream",
          "text": [
            "Found 75750 images belonging to 101 classes.\n",
            "Found 25250 images belonging to 101 classes.\n"
          ]
        }
      ],
      "source": [
        "# Create an image generator for the training set\n",
        "train_img_gen = ImageDataGenerator(\n",
        "    # Rescale to between 0-1\n",
        "    rescale=1. / 255,\n",
        "    # Add augmentations to data\n",
        "    rotation_range=40, \n",
        "    width_shift_range=0.1, \n",
        "    height_shift_range=0.1,\n",
        "    shear_range=0.2,\n",
        "    zoom_range=0.2,\n",
        "    horizontal_flip=True,\n",
        "    fill_mode='nearest')\n",
        "# Create an image generator for the test set\n",
        "test_img_gen = ImageDataGenerator(rescale = 1. / 255)\n",
        "\n",
        "# Create a data generator for the training set using flow_from_directory()\n",
        "train_data_gen = train_img_gen.flow_from_directory(\n",
        "    batch_size=batch_size, \n",
        "    directory=input_path+'/training', \n",
        "    target_size=(299, 299), \n",
        "    class_mode='categorical', \n",
        "    color_mode='rgb')\n",
        "# Create a data generator for the test set using flow_from_directory()\n",
        "test_data_gen = test_img_gen.flow_from_directory(\n",
        "    batch_size=batch_size, \n",
        "    directory=input_path+'/test', \n",
        "    target_size=(299, 299), \n",
        "    class_mode='categorical', \n",
        "    color_mode='rgb')"
      ]
    },
    {
      "cell_type": "markdown",
      "metadata": {},
      "source": [
        "Create base model, freeze layers, build model, compile model, define call backs, and fit the model"
      ]
    },
    {
      "cell_type": "code",
      "execution_count": null,
      "metadata": {
        "id": "ozffClN0TZ3G"
      },
      "outputs": [],
      "source": [
        "# Instantiate a pre-trained InceptionResNetV2 model\n",
        "inception = tf.keras.applications.InceptionResNetV2(\n",
        "    # Specify the input image dimensions\n",
        "    input_shape = (299, 299, 3),\n",
        "    # Don't include top layers as this project has a different number of classes than the pre-trained model\n",
        "    include_top = False, \n",
        "    # Use pre-trained weights from ImageNet\n",
        "    weights = 'imagenet')\n",
        "\n",
        "# Freeze layers\n",
        "inception.trainable = False\n",
        "\n",
        "# Build model\n",
        "model = tf.keras.Sequential([\n",
        "    inception,\n",
        "    # Global average layer\n",
        "    GlobalAveragePooling2D(),\n",
        "    # First and second fully connected layers, with relu activation function\n",
        "    Dense(256, activation='relu'),\n",
        "    Dense(128, activation='relu'),\n",
        "    # Third fully connected layer, with softmax activation function for making predictions\n",
        "    Dense(101, activation='softmax')\n",
        "])\n",
        "\n",
        "# Set optimizer\n",
        "optimizer = tf.keras.optimizers.Adam(0.0001)\n",
        "# Compile model using catgorical crossentropy as the loss function, adam as the optimizer, and accuray as the metric\n",
        "model.compile(loss='categorical_crossentropy', optimizer=optimizer, metrics=['accuracy'])\n",
        "\n",
        "# Define callbacks\n",
        "early_stop_cb = tf.keras.callbacks.EarlyStopping(monitor='loss', patience=5)\n",
        "reduce_lr = ReduceLROnPlateau(monitor='val_loss', factor=0.2, patience=3, min_lr=0.0000001)\n",
        "# Save the model to the temp folder of Google Drive (mount drive, select directory)\n",
        "drive.mount('/content/drive')\n",
        "MODEL_DIR = \"/content/drive/My Drive/temp\"\n",
        "if not os.path.exists(MODEL_DIR):\n",
        "    os.makedirs(MODEL_DIR)\n",
        "checkpoint = ModelCheckpoint(filepath=os.path.join(MODEL_DIR, \"inception-model-{epoch:02d}.h5\"), save_best_only=True) \n",
        "\n",
        "# Fit the model\n",
        "history = model.fit(\n",
        "    train_data_gen,\n",
        "    steps_per_epoch = total_train // batch_size,\n",
        "    validation_data = test_data_gen,\n",
        "    validation_steps = total_val // batch_size,\n",
        "    epochs = 10,\n",
        "    callbacks = [early_stop_cb, reduce_lr, model_checkpoint_cb])"
      ]
    },
    {
      "cell_type": "markdown",
      "metadata": {
        "id": "H3X5NFMW6qmS"
      },
      "source": [
        "Plot accuracy and loss curves for model"
      ]
    },
    {
      "cell_type": "code",
      "execution_count": null,
      "metadata": {
        "colab": {
          "base_uri": "https://localhost:8080/",
          "height": 295
        },
        "id": "nAX0UP_OT0ia",
        "outputId": "59563a83-3043-4b9b-9e88-70e4ac6d8d0d"
      },
      "outputs": [
        {
          "data": {
            "image/png": "[encoded data removed]",
            "text/plain": [
              "<Figure size 432x288 with 1 Axes>"
            ]
          },
          "metadata": {
            "needs_background": "light"
          },
          "output_type": "display_data"
        }
      ],
      "source": [
        "# Plot the train and validation accuracy for the model\n",
        "plot_accuracy(history,'Accuracy - InceptionResNetV2')"
      ]
    },
    {
      "cell_type": "code",
      "execution_count": null,
      "metadata": {
        "colab": {
          "base_uri": "https://localhost:8080/",
          "height": 295
        },
        "id": "o3r9KsQMiT67",
        "outputId": "7e99c626-6baf-4841-8cc1-293539fd0e9a"
      },
      "outputs": [
        {
          "data": {
            "image/png": "[encoded data removed]",
            "text/plain": [
              "<Figure size 432x288 with 1 Axes>"
            ]
          },
          "metadata": {
            "needs_background": "light"
          },
          "output_type": "display_data"
        }
      ],
      "source": [
        "# Plot the train and validation loss for the model\n",
        "plot_loss(history,'Loss - InceptionResNetV2')"
      ]
    },
    {
      "cell_type": "markdown",
      "metadata": {
        "id": "XFE91JFI4Rkw"
      },
      "source": [
        "## MobileNetV3 Model"
      ]
    },
    {
      "cell_type": "markdown",
      "metadata": {
        "id": "HQArk6mv6i4h"
      },
      "source": [
        "Prepare data for modelling"
      ]
    },
    {
      "cell_type": "code",
      "execution_count": 7,
      "metadata": {
        "colab": {
          "base_uri": "https://localhost:8080/"
        },
        "id": "WhCEcrSw4U5g",
        "outputId": "a327c4a2-e83b-4dd4-b130-bb6d07c60e0b"
      },
      "outputs": [
        {
          "name": "stdout",
          "output_type": "stream",
          "text": [
            "Found 75750 images belonging to 101 classes.\n",
            "Found 25250 images belonging to 101 classes.\n"
          ]
        }
      ],
      "source": [
        "# Create an image generator for the training set - don't need to sclae the images for MobileNet\n",
        "mobile_train_img_gen = ImageDataGenerator(\n",
        "    # Add augmentations to data\n",
        "    rotation_range=40, \n",
        "    width_shift_range=0.1, \n",
        "    height_shift_range=0.1,\n",
        "    shear_range=0.2,\n",
        "    zoom_range=0.2,\n",
        "    horizontal_flip=True,\n",
        "    fill_mode='nearest')\n",
        "# Create an image generator for the test set - don't need to sclae the images for MobileNet\n",
        "mobile_test_img_gen = ImageDataGenerator()\n",
        "\n",
        "# Create a data generator for the training set using flow_from_directory()\n",
        "mobile_train_data_gen = mobile_train_img_gen.flow_from_directory(\n",
        "    batch_size = batch_size, \n",
        "    directory = input_path+'/training', \n",
        "    target_size = (224, 224), \n",
        "    class_mode = 'categorical', \n",
        "    color_mode = 'rgb')\n",
        "# Create a data generator for the test set using flow_from_directory()\n",
        "mobile_test_data_gen = mobile_test_img_gen.flow_from_directory(\n",
        "    batch_size = batch_size, \n",
        "    directory = input_path+'/test', \n",
        "    target_size = (224, 224), \n",
        "    class_mode = 'categorical', \n",
        "    color_mode = 'rgb')"
      ]
    },
    {
      "cell_type": "markdown",
      "metadata": {
        "id": "q5dCkirp8IqI"
      },
      "source": [
        "Create base model, freeze layers, build model, compile model, define call backs, and fit the model"
      ]
    },
    {
      "cell_type": "code",
      "execution_count": null,
      "metadata": {
        "colab": {
          "base_uri": "https://localhost:8080/"
        },
        "id": "ItOmgVId4bcR",
        "outputId": "c2986e6c-b1b2-4e01-e4cc-4ed0d0309592"
      },
      "outputs": [
        {
          "name": "stdout",
          "output_type": "stream",
          "text": [
            "Mounted at /content/drive\n"
          ]
        },
        {
          "name": "stderr",
          "output_type": "stream",
          "text": [
            "/usr/local/lib/python3.7/dist-packages/ipykernel_launcher.py:49: UserWarning: `Model.fit_generator` is deprecated and will be removed in a future version. Please use `Model.fit`, which supports generators.\n"
          ]
        },
        {
          "name": "stdout",
          "output_type": "stream",
          "text": [
            "Epoch 1/10\n",
            "2367/2367 [==============================] - 1436s 601ms/step - loss: 2.7245 - accuracy: 0.3592 - val_loss: 1.6717 - val_accuracy: 0.5634 - lr: 1.0000e-04\n",
            "Epoch 2/10\n",
            "2367/2367 [==============================] - 1385s 585ms/step - loss: 1.8257 - accuracy: 0.5371 - val_loss: 1.4190 - val_accuracy: 0.6212 - lr: 1.0000e-04\n",
            "Epoch 3/10\n",
            "2367/2367 [==============================] - 1304s 551ms/step - loss: 1.6344 - accuracy: 0.5796 - val_loss: 1.2939 - val_accuracy: 0.6488 - lr: 1.0000e-04\n",
            "Epoch 4/10\n",
            "2367/2367 [==============================] - 1326s 560ms/step - loss: 1.5282 - accuracy: 0.6038 - val_loss: 1.2553 - val_accuracy: 0.6572 - lr: 1.0000e-04\n",
            "Epoch 5/10\n",
            "2367/2367 [==============================] - 1329s 562ms/step - loss: 1.4538 - accuracy: 0.6206 - val_loss: 1.2068 - val_accuracy: 0.6727 - lr: 1.0000e-04\n",
            "Epoch 6/10\n",
            "2367/2367 [==============================] - 1310s 553ms/step - loss: 1.3972 - accuracy: 0.6365 - val_loss: 1.1746 - val_accuracy: 0.6791 - lr: 1.0000e-04\n",
            "Epoch 7/10\n",
            "2367/2367 [==============================] - 1308s 552ms/step - loss: 1.3475 - accuracy: 0.6450 - val_loss: 1.1452 - val_accuracy: 0.6841 - lr: 1.0000e-04\n",
            "Epoch 8/10\n",
            "2367/2367 [==============================] - 1293s 546ms/step - loss: 1.3163 - accuracy: 0.6520 - val_loss: 1.1372 - val_accuracy: 0.6884 - lr: 1.0000e-04\n",
            "Epoch 9/10\n",
            "2367/2367 [==============================] - 1291s 546ms/step - loss: 1.2790 - accuracy: 0.6611 - val_loss: 1.1016 - val_accuracy: 0.6971 - lr: 1.0000e-04\n",
            "Epoch 10/10\n",
            "2367/2367 [==============================] - ETA: 0s - loss: 1.2486 - accuracy: 0.6694"
          ]
        }
      ],
      "source": [
        "# Instantiate a pre-trained MobileNetV3Large model\n",
        "mobile = tf.keras.applications.MobileNetV3Large(\n",
        "    # Specify the input image dimensions\n",
        "    input_shape=(224, 224, 3),\n",
        "    # Don't include top layers as this project has a different number of classes than the pre-trained model\n",
        "    include_top=False,\n",
        "    # Use pre-trained weights from ImageNet\n",
        "    weights='imagenet',\n",
        "    # Include pre-processing\n",
        "    include_preprocessing=True)\n",
        "\n",
        "# Freeze layers\n",
        "mobile.trainable = False\n",
        "\n",
        "# Build model\n",
        "mobile_model = tf.keras.Sequential([\n",
        "    mobile,\n",
        "    # Global average layer\n",
        "    GlobalAveragePooling2D(),\n",
        "    # First and second fully connected layers, with relu activation function\n",
        "    Dense(256, activation='relu'),\n",
        "    Dense(128, activation='relu'),\n",
        "    # Third fully connected layer, with softmax activation function for making predictions\n",
        "    Dense(101, activation='softmax')\n",
        "])\n",
        "\n",
        "# Set optimizer\n",
        "optimizer = tf.keras.optimizers.Adam(0.0001)\n",
        "# Compile model using catgorical crossentropy as the loss function, adam as the optimizer, and accuray as the metric\n",
        "mobile_model.compile(loss='categorical_crossentropy', optimizer=optimizer, metrics=['accuracy'])\n",
        "\n",
        "# Define callbacks\n",
        "early_stop_cb = tf.keras.callbacks.EarlyStopping(monitor='loss', patience=5)\n",
        "reduce_lr = ReduceLROnPlateau(monitor='val_loss', factor=0.2, patience=3, min_lr=0.0000001)\n",
        "# Save the model to the temp folder of Google Drive (mount drive, select directory)\n",
        "drive.mount('/content/drive')\n",
        "MODEL_DIR = \"/content/drive/My Drive/temp\"\n",
        "if not os.path.exists(MODEL_DIR):\n",
        "    os.makedirs(MODEL_DIR)\n",
        "checkpoint = ModelCheckpoint(filepath=os.path.join(MODEL_DIR, \"mobile-model-{epoch:02d}.h5\"), save_best_only=True) \n",
        "\n",
        "# Fit the model\n",
        "mobile_history = mobile_model.fit_generator(\n",
        "    mobile_train_data_gen,\n",
        "    steps_per_epoch = total_train // batch_size,\n",
        "    validation_data = mobile_test_data_gen,\n",
        "    validation_steps = total_val // batch_size,\n",
        "    epochs = 10,\n",
        "    callbacks = [early_stop_cb, reduce_lr, checkpoint])"
      ]
    },
    {
      "cell_type": "markdown",
      "metadata": {
        "id": "u7rWidyY6s0d"
      },
      "source": [
        "Plot accuracy and loss curves for model"
      ]
    },
    {
      "cell_type": "code",
      "execution_count": null,
      "metadata": {
        "id": "2OGKgIPd5Oe7"
      },
      "outputs": [],
      "source": [
        "# Plot the accuracy curve of model\n",
        "plot_accuracy(mobile_history,'Accuracy - MobileNetV3Large')"
      ]
    },
    {
      "cell_type": "code",
      "execution_count": null,
      "metadata": {
        "id": "3zB0Gqsb5OfJ"
      },
      "outputs": [],
      "source": [
        "# Plot the loss curve of model\n",
        "plot_loss(mobile_history,'Loss - MobileNetV3Large')"
      ]
    },
    {
      "cell_type": "markdown",
      "metadata": {
        "id": "c3p_qMYC59Fw"
      },
      "source": [
        "## NASNet Model"
      ]
    },
    {
      "cell_type": "markdown",
      "metadata": {
        "id": "8I2UqqRs8YfX"
      },
      "source": [
        "Prepare data for modelling"
      ]
    },
    {
      "cell_type": "code",
      "execution_count": null,
      "metadata": {
        "id": "4mah5rJT5_0M"
      },
      "outputs": [],
      "source": [
        "# Create an image generator for the training set (same as used in Inception model)\n",
        "train_img_gen = ImageDataGenerator(\n",
        "    # Rescale to be between 0-1\n",
        "    rescale=1. / 255,\n",
        "    # Add augmentations to data\n",
        "    rotation_range=40, \n",
        "    width_shift_range=0.1, \n",
        "    height_shift_range=0.1,\n",
        "    shear_range=0.2,\n",
        "    zoom_range=0.2,\n",
        "    horizontal_flip=True,\n",
        "    fill_mode='nearest')\n",
        "# Create an image generator for the test set (same as used in Inception model)\n",
        "test_img_gen = ImageDataGenerator(rescale = 1. / 255)\n",
        "\n",
        "# Create a data generator for the training set using flow_from_directory()\n",
        "nasnet_train_data_gen = mobile_train_img_gen.flow_from_directory(\n",
        "    batch_size = batch_size, \n",
        "    directory = input_path+'/training', \n",
        "    target_size = (224, 224), \n",
        "    class_mode = 'categorical', \n",
        "    color_mode = 'rgb')\n",
        "# Create a data generator for the test set using flow_from_directory()\n",
        "nasent_test_data_gen = mobile_test_img_gen.flow_from_directory(\n",
        "    batch_size = batch_size, \n",
        "    directory = input_path+'/test', \n",
        "    target_size = (224, 224), \n",
        "    class_mode = 'categorical', \n",
        "    color_mode = 'rgb')"
      ]
    },
    {
      "cell_type": "markdown",
      "metadata": {
        "id": "ukcOoD7V8KZB"
      },
      "source": [
        "Create base model, freeze layers, build model, compile model, define call backs, and fit the model"
      ]
    },
    {
      "cell_type": "code",
      "execution_count": null,
      "metadata": {
        "colab": {
          "base_uri": "https://localhost:8080/"
        },
        "id": "IwDB0V8S0AeL",
        "outputId": "03b89bde-8fe2-45f9-8118-2d05bd8e387d"
      },
      "outputs": [],
      "source": [
        "# Instantiate a pre-trained NASNetMobile model\n",
        "nasnet = tf.keras.applications.NASNetMobile(\n",
        "    # Specify the input image dimensions\n",
        "    input_shape = (224, 224, 3),\n",
        "    # Don't include top layers as this project has a different number of classes than the pre-trained model\n",
        "    include_top = False, \n",
        "    # Use pre-trained weights from ImageNet\n",
        "    weights = 'imagenet')\n",
        "\n",
        "# Freeze layers\n",
        "nasnet.trainable = False\n",
        "\n",
        "# Build model\n",
        "nasnet_model = tf.keras.Sequential([\n",
        "    nasnet,\n",
        "    # Global average layer\n",
        "    GlobalAveragePooling2D(),\n",
        "    # First and second fully connected layers, with relu activation function\n",
        "    Dense(256, activation='relu'),\n",
        "    Dense(128, activation='relu'),\n",
        "    # Third fully connected layer, with softmax activation function for making predictions\n",
        "    Dense(101, activation='softmax')\n",
        "])\n",
        "\n",
        "# Set optimizer\n",
        "optimizer = tf.keras.optimizers.Adam(0.0001)\n",
        "# Compile model using catgorical crossentropy as the loss function, adam as the optimizer, and accuray as the metric\n",
        "nasnet_model.compile(loss='categorical_crossentropy', optimizer=optimizer, metrics=['accuracy'])\n",
        "\n",
        "# Define callbacks\n",
        "early_stop_cb = tf.keras.callbacks.EarlyStopping(monitor='loss', patience=5)\n",
        "reduce_lr = ReduceLROnPlateau(monitor='val_loss', factor=0.2, patience=3, min_lr=0.0000001)\n",
        "# Save the model to the temp folder of Google Drive (mount drive, select directory)\n",
        "drive.mount('/content/drive')\n",
        "MODEL_DIR = \"/content/drive/My Drive/temp\"\n",
        "if not os.path.exists(MODEL_DIR):\n",
        "    os.makedirs(MODEL_DIR)\n",
        "checkpoint = ModelCheckpoint(filepath=os.path.join(MODEL_DIR, \"nasnet-model-{epoch:02d}.h5\"), save_best_only=True) \n",
        "\n",
        "# Fit the model\n",
        "nasnet_history = nasnet_model.fit_generator(\n",
        "    nasnet_train_data_gen,\n",
        "    steps_per_epoch = total_train // batch_size,\n",
        "    validation_data = nasnet_test_data_gen,\n",
        "    validation_steps = total_val // batch_size,\n",
        "    epochs = 10,\n",
        "    callbacks = [early_stop_cb, reduce_lr, checkpoint])"
      ]
    },
    {
      "cell_type": "markdown",
      "metadata": {
        "id": "F-cBVspM6u8I"
      },
      "source": [
        "Plot accuracy and loss curves for model"
      ]
    },
    {
      "cell_type": "code",
      "execution_count": null,
      "metadata": {
        "colab": {
          "base_uri": "https://localhost:8080/",
          "height": 295
        },
        "id": "JmtduOpk0Zyf",
        "outputId": "79613032-5c96-4284-ea8a-4676f33b938a"
      },
      "outputs": [
        {
          "data": {
            "image/png": "[encoded data removed]",
            "text/plain": [
              "<Figure size 432x288 with 1 Axes>"
            ]
          },
          "metadata": {
            "needs_background": "light"
          },
          "output_type": "display_data"
        }
      ],
      "source": [
        "# Plot the accuracy curve of model\n",
        "plot_accuracy(nasnet_history,'FOOD-101 - NASNetMobile')"
      ]
    },
    {
      "cell_type": "code",
      "execution_count": null,
      "metadata": {
        "colab": {
          "base_uri": "https://localhost:8080/",
          "height": 295
        },
        "id": "s4HVwikk0bwP",
        "outputId": "863fa08d-72de-4378-8e8d-8b5588af22ef"
      },
      "outputs": [
        {
          "data": {
            "image/png": "[encoded data removed]",
            "text/plain": [
              "<Figure size 432x288 with 1 Axes>"
            ]
          },
          "metadata": {
            "needs_background": "light"
          },
          "output_type": "display_data"
        }
      ],
      "source": [
        "# Plot the loss curve of model\n",
        "plot_loss(nasnet_history,'FOOD-101 - NASNetMobile')"
      ]
    }
  ],
  "metadata": {
    "accelerator": "GPU",
    "colab": {
      "name": "Assignment2_PartA_AnikaZatschler.ipynb",
      "provenance": []
    },
    "kernelspec": {
      "display_name": "Python 3",
      "name": "python3"
    },
    "language_info": {
      "name": "python"
    }
  },
  "nbformat": 4,
  "nbformat_minor": 0
}
